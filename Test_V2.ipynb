{
 "cells": [
  {
   "cell_type": "code",
   "execution_count": 1,
   "metadata": {},
   "outputs": [
    {
     "name": "stdout",
     "output_type": "stream",
     "text": [
      "Welcome to JupyROOT 6.17/01\n"
     ]
    }
   ],
   "source": [
    "import numpy as np\n",
    "import ROOT, glob, os, sys\n",
    "import read_root_files as read\n",
    "import matplotlib.pyplot as plt\n",
    "import datetime\n",
    "plt.ion()"
   ]
  },
  {
   "cell_type": "code",
   "execution_count": 2,
   "metadata": {},
   "outputs": [],
   "source": [
    "path='/Users/kmulrey/LOFAR/LORA/LORAraw/'\n",
    "path2='new_files/'\n"
   ]
  },
  {
   "cell_type": "code",
   "execution_count": 3,
   "metadata": {},
   "outputs": [],
   "source": [
    "file_name='20200202_2304'"
   ]
  },
  {
   "cell_type": "code",
   "execution_count": 4,
   "metadata": {},
   "outputs": [],
   "source": [
    "file=path2+file_name+'.npz'\n"
   ]
  },
  {
   "cell_type": "code",
   "execution_count": 5,
   "metadata": {},
   "outputs": [
    {
     "name": "stdout",
     "output_type": "stream",
     "text": [
      "['GPS_Time_Stamp', 'Peak_Height_Raw', 'Run_Id', 'Event_Id', 'Trigg_Threshold', 'Channel_Passed_Threshold', 'CTD', 'Charge_Corrected', 'nsec_Online', 'Peak_Height_Corrected', 'sigma_ovr_thresh', 'Detector', 'Waveform_Raw']\n"
     ]
    }
   ],
   "source": [
    "d=np.load(file)\n",
    "print d.files"
   ]
  },
  {
   "cell_type": "code",
   "execution_count": 6,
   "metadata": {},
   "outputs": [],
   "source": [
    "waveforms= d['Waveform_Raw']#[0]\n",
    "det=d['Detector']\n",
    "id=d['Event_Id']\n",
    "gps=d['GPS_Time_Stamp']\n",
    "ctd=d['CTD']\n",
    "ns=d['nsec_Online']"
   ]
  },
  {
   "cell_type": "code",
   "execution_count": 10,
   "metadata": {},
   "outputs": [
    {
     "name": "stdout",
     "output_type": "stream",
     "text": [
      "6648\n"
     ]
    }
   ],
   "source": [
    "n=len(gps)\n",
    "print n"
   ]
  },
  {
   "cell_type": "code",
   "execution_count": 11,
   "metadata": {},
   "outputs": [
    {
     "name": "stdout",
     "output_type": "stream",
     "text": [
      "[1.98334256e+08 1.98334256e+08 1.98334256e+08 ... 1.81486505e+08\n",
      " 1.81486842e+08 1.81486842e+08]\n"
     ]
    }
   ],
   "source": [
    "print ctd"
   ]
  },
  {
   "cell_type": "code",
   "execution_count": 9,
   "metadata": {},
   "outputs": [],
   "source": [
    "events,event_ind=np.unique(id,return_index=True)\n",
    "nEvents=len(events)\n"
   ]
  },
  {
   "cell_type": "code",
   "execution_count": 33,
   "metadata": {},
   "outputs": [],
   "source": [
    "def fill_stations(det, wf, lasa):\n",
    "    \n",
    "    print lasa,det, wf.shape\n",
    "    det1=(lasa-1)*4+1\n",
    "    det2=(lasa-1)*4+2\n",
    "    det3=(lasa-1)*4+3\n",
    "    det4=(lasa-1)*4+4\n",
    "    \n",
    "    #print 'relevant detectors'\n",
    "    #print det1,det2,det3,det4\n",
    "    nTrace=4000\n",
    "    wf_1=np.empty([0,nTrace])\n",
    "            \n",
    "\n",
    "    if det1 in det:\n",
    "        ind1=np.where(det==det1) \n",
    "        ind2=np.where(det==det2)\n",
    "        ind3=np.where(det==det3)\n",
    "        ind4=np.where(det==det4)\n",
    "        print np.asarray(wf[ind1]).shape\n",
    "        wf_1=np.concatenate((wf_1,np.asarray(wf[ind1])))\n",
    "        wf_1=np.concatenate((wf_1,np.asarray(wf[ind2])))\n",
    "        wf_1=np.concatenate((wf_1,np.asarray(wf[ind3])))\n",
    "        wf_1=np.concatenate((wf_1,np.asarray(wf[ind4])))\n",
    "\n",
    "         \n",
    "    \n",
    "    return wf_1"
   ]
  },
  {
   "cell_type": "code",
   "execution_count": 34,
   "metadata": {
    "scrolled": false
   },
   "outputs": [
    {
     "name": "stdout",
     "output_type": "stream",
     "text": [
      "\n",
      ".......................................................\n",
      "\n",
      "event before: 212:  [ 9. 10. 11. 12.]\n",
      "23:13:54\n",
      "[6.43017417e+08 6.43017417e+08 6.43017418e+08 6.43017418e+08]\n",
      "_____ event 213 _____\n",
      "12 detectors:  [ 9. 10. 11. 12. 13. 14. 15. 16. 17. 18. 19. 20.]\n",
      "23:13:56\n",
      "[5.49121096e+08 5.49121096e+08 5.49121091e+08 5.49121091e+08\n",
      " 5.49121165e+08 5.49121165e+08 5.49121161e+08 5.49121161e+08\n",
      " 5.49120927e+08 5.49120927e+08 5.49120928e+08 5.49120928e+08]\n",
      "event after: 214:  [13. 14. 15. 16.]\n",
      "23:14:00\n",
      "[2.65266638e+08 2.65266638e+08 2.65266633e+08 2.65266633e+08]\n",
      "\n",
      ".......................................................\n",
      "\n",
      "event before: 381:  [ 9. 10. 11. 12.]\n",
      "23:19:58\n",
      "[3.29424976e+08 3.29424976e+08 3.29424970e+08 3.29424970e+08]\n",
      "_____ event 382 _____\n",
      "12 detectors:  [ 5.  6.  7.  8.  9. 10. 11. 12. 13. 14. 15. 16.]\n",
      "23:20:00\n",
      "[83701351. 83701351. 83701351. 83701351. 83700904. 83700904. 83700901.\n",
      " 83700901. 83700829. 83700829. 83700828. 83700828.]\n",
      "event after: 383:  [21. 22. 23. 24.]\n",
      "23:20:04\n",
      "[23375194. 23375194. 23375194. 23375194.]\n",
      "\n",
      ".......................................................\n",
      "\n",
      "event before: 459:  [1. 2. 3. 4.]\n",
      "23:22:43\n",
      "[7.38952850e+08 7.38952850e+08 7.38952848e+08 7.38952848e+08]\n",
      "_____ event 460 _____\n",
      "12 detectors:  [ 1.  2.  3.  4. 13. 14. 15. 16. 17. 18. 19. 20.]\n",
      "23:22:44\n",
      "[3.10679911e+08 3.10679911e+08 3.10679917e+08 3.10679917e+08\n",
      " 3.10679971e+08 3.10679971e+08 3.10679969e+08 3.10679969e+08\n",
      " 3.10680416e+08 3.10680416e+08 3.10680415e+08 3.10680415e+08]\n",
      "event after: 461:  [5. 6. 7. 8.]\n",
      "23:22:52\n",
      "[9.73571965e+08 9.73571965e+08 9.73571969e+08 9.73571969e+08]\n",
      "\n",
      ".......................................................\n",
      "\n",
      "event before: 837:  [5. 6. 7. 8.]\n",
      "23:35:56\n",
      "[5.85743243e+08 5.85743243e+08 5.85743249e+08 5.85743249e+08]\n",
      "_____ event 838 _____\n",
      "12 detectors:  [ 1.  2.  3.  4.  5.  6.  7.  8. 13. 14. 15. 16.]\n",
      "23:35:57\n",
      "[30018476. 30018476. 30018476. 30018476. 30019015. 30019015. 30019012.\n",
      " 30019012. 30018403. 30018403. 30018401. 30018401.]\n",
      "event after: 839:  [1. 2. 3. 4.]\n",
      "23:35:58\n",
      "[1.19570553e+08 1.19570553e+08 1.19570552e+08 1.19570552e+08]\n",
      "\n",
      ".......................................................\n",
      "\n",
      "event before: 959:  [13. 14. 15. 16.]\n",
      "23:40:05\n",
      "[6.32093431e+08 6.32093431e+08 6.32093433e+08 6.32093433e+08]\n",
      "_____ event 960 _____\n",
      "12 detectors:  [ 1.  2.  3.  4.  5.  6.  7.  8. 13. 14. 15. 16.]\n",
      "23:40:11\n",
      "[1.25813593e+08 1.25813593e+08 1.25813592e+08 1.25813592e+08\n",
      " 1.25813727e+08 1.25813727e+08 1.25813723e+08 1.25813723e+08\n",
      " 1.25813665e+08 1.25813665e+08 1.25813665e+08 1.25813665e+08]\n",
      "event after: 961:  [33. 34. 35. 36.]\n",
      "23:40:12\n",
      "[3.47120377e+08 3.47120377e+08 3.47120377e+08 3.47120377e+08]\n",
      "\n",
      ".......................................................\n",
      "\n",
      "event before: 1237:  [21. 22. 23. 24.]\n",
      "23:50:50\n",
      "[2.10877399e+08 2.10877399e+08 2.10877399e+08 2.10877399e+08]\n",
      "_____ event 1238 _____\n",
      "16 detectors:  [ 1.  2.  3.  4.  5.  6.  7.  8.  9. 10. 11. 12. 17. 18. 19. 20.]\n",
      "23:50:51\n",
      "[8.33934619e+08 8.33934619e+08 8.33934614e+08 8.33934614e+08\n",
      " 8.33934418e+08 8.33934418e+08 8.33934412e+08 8.33934412e+08\n",
      " 8.33934479e+08 8.33934479e+08 8.33934479e+08 8.33934479e+08\n",
      " 8.33934308e+08 8.33934308e+08 8.33934299e+08 8.33934299e+08]\n",
      "event after: 1239:  [33. 34. 35. 36.]\n",
      "23:50:52\n",
      "[73174842. 73174842. 73174842. 73174842.]\n",
      "\n",
      ".......................................................\n",
      "\n",
      "event before: 1322:  [5. 6. 7. 8.]\n",
      "23:53:55\n",
      "[7.77001834e+08 7.77001834e+08 7.77001839e+08 7.77001839e+08]\n",
      "_____ event 1323 _____\n",
      "12 detectors:  [ 1.  2.  3.  4.  9. 10. 11. 12. 13. 14. 15. 16.]\n",
      "23:54:02\n",
      "[64230260. 64230260. 64230256. 64230256. 64230181. 64230181. 64230181.\n",
      " 64230181. 64230183. 64230183. 64230180. 64230180.]\n",
      "event after: 1324:  [17. 18. 19. 20.]\n",
      "23:54:02\n",
      "[8.51784199e+08 8.51784199e+08 8.51784198e+08 8.51784198e+08]\n",
      "\n",
      ".......................................................\n",
      "\n",
      "event before: 1394:  [5. 6. 7. 8.]\n",
      "23:56:28\n",
      "[1.82156757e+08 1.82156757e+08 1.82156756e+08 1.82156756e+08]\n",
      "_____ event 1395 _____\n",
      "12 detectors:  [ 5.  6.  7.  8.  9. 10. 11. 12. 17. 18. 19. 20.]\n",
      "23:56:31\n",
      "[3.10899509e+08 3.10899509e+08 3.10899505e+08 3.10899505e+08\n",
      " 3.10900025e+08 3.10900025e+08 3.10900026e+08 3.10900026e+08\n",
      " 3.10899922e+08 3.10899922e+08 3.10899917e+08 3.10899917e+08]\n",
      "event after: 1396:  [21. 22. 23. 24.]\n",
      "23:56:33\n",
      "[6.98745461e+08 6.98745461e+08 6.98745461e+08 6.98745461e+08]\n",
      "\n",
      ".......................................................\n",
      "\n",
      "event before: 1454:  [33. 34. 35. 36.]\n",
      "23:58:53\n",
      "[5.06755386e+08 5.06755386e+08 5.06755386e+08 5.06755386e+08]\n",
      "_____ event 1455 _____\n",
      "16 detectors:  [ 1.  2.  3.  4.  9. 10. 11. 12. 13. 14. 15. 16. 17. 18. 19. 20.]\n",
      "23:58:53\n",
      "[4.66936663e+08 4.66936663e+08 4.66936659e+08 4.66936659e+08\n",
      " 4.66936931e+08 4.66936931e+08 4.66936933e+08 4.66936933e+08\n",
      " 4.66936804e+08 4.66936804e+08 4.66936806e+08 4.66936806e+08\n",
      " 4.66936913e+08 4.66936913e+08 4.66936909e+08 4.66936909e+08]\n",
      "event after: 1456:  [5. 6. 7. 8.]\n",
      "23:58:53\n",
      "[7.91059241e+08 7.91059241e+08 7.91059242e+08 7.91059242e+08]\n"
     ]
    }
   ],
   "source": [
    "max_events=5000\n",
    "count=0\n",
    "import time\n",
    "for e in np.arange(0,nEvents-1):\n",
    "    if count<max_events:\n",
    "        gps_pre=gps[id==id[event_ind[e-1]]]\n",
    "        gps_post=gps[id==id[event_ind[e+1]]]\n",
    "\n",
    "        gps_sub= gps[id==id[event_ind[e]]]\n",
    "        nDet=len(det[id==id[event_ind[e]]])\n",
    "        \n",
    "        if nDet>11:\n",
    "            count=count+1\n",
    "            #if det[id==id[event_ind[e-1]]][0]==21 or det[id==id[event_ind[e-1]]][0]==37 or det[id==id[event_ind[e-1]]][0]==33:\n",
    "            #    gps_pre[0]=gps_pre[0]-18\n",
    "            #if det[id==id[event_ind[e+1]]][0]==21 or det[id==id[event_ind[e+1]]][0]==37 or det[id==id[event_ind[e+1]]][0]==33:\n",
    "            #    gps_post[0]=gps_post[0]-18\n",
    "            print ''\n",
    "\n",
    "            print '.......................................................'    \n",
    "            print ''\n",
    "            print 'event before: {0}:  {1}'.format(int(id[event_ind[e-1]]),det[id==id[event_ind[e-1]]])\n",
    "            print time.strftime(\"%H:%M:%S\", time.gmtime(gps_pre[0]))\n",
    "            #print ctd[id==id[event_ind[e-1]]]\n",
    "            print ns[id==id[event_ind[e-1]]]\n",
    "\n",
    "            print '_____ event {0} _____'.format(int(id[event_ind[e]]))\n",
    "    \n",
    "            print '{0} detectors:  {1}'.format(len(gps_sub), det[id==id[event_ind[e]]])\n",
    "            for i in np.arange(1):\n",
    "                print time.strftime(\"%H:%M:%S\", time.gmtime(gps_sub[i]))\n",
    "            #print ctd[id==id[event_ind[e]]]\n",
    "            print ns[id==id[event_ind[e]]]\n",
    "\n",
    "\n",
    "            print 'event after: {0}:  {1}'.format(int(id[event_ind[e+1]]),det[id==id[event_ind[e+1]]])\n",
    "            print time.strftime(\"%H:%M:%S\", time.gmtime(gps_post[0]))\n",
    "            #print ctd[id==id[event_ind[e+1]]]\n",
    "            print ns[id==id[event_ind[e+1]]]\n",
    "\n",
    "            wf=waveforms[id==id[event_ind[e]]]\n",
    "            det_event=det[id==id[event_ind[e]]]\n",
    "            #print 'waveforms:     {0}'.format(wf.shape)\n",
    "            \n",
    "            stations=[]\n",
    "        \n",
    "            '''\n",
    "            wf1=fill_stations(det_event, wf,1)\n",
    "            wf2=fill_stations(det_event, wf,2)\n",
    "            wf3=fill_stations(det_event, wf,3)\n",
    "            wf4=fill_stations(det_event, wf,4)\n",
    "            wf5=fill_stations(det_event, wf,5)\n",
    "            wf6=fill_stations(det_event, wf,6)\n",
    "            wf7=fill_stations(det_event, wf,7)\n",
    "            wf8=fill_stations(det_event, wf,8)\n",
    "            '''\n",
    "            \n",
    "        "
   ]
  },
  {
   "cell_type": "code",
   "execution_count": null,
   "metadata": {},
   "outputs": [],
   "source": [
    "\n",
    "       \n",
    "                \n",
    "                \n",
    "                "
   ]
  }
 ],
 "metadata": {
  "kernelspec": {
   "display_name": "Python 2",
   "language": "python",
   "name": "python2"
  },
  "language_info": {
   "codemirror_mode": {
    "name": "ipython",
    "version": 2
   },
   "file_extension": ".py",
   "mimetype": "text/x-python",
   "name": "python",
   "nbconvert_exporter": "python",
   "pygments_lexer": "ipython2",
   "version": "2.7.15"
  }
 },
 "nbformat": 4,
 "nbformat_minor": 2
}
